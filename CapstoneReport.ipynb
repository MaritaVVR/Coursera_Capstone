{
 "cells": [
  {
   "cell_type": "markdown",
   "metadata": {},
   "source": [
    "# <b>Capstone Final Report </b>"
   ]
  },
  {
   "cell_type": "markdown",
   "metadata": {},
   "source": [
    "## Introduction/Business Problem"
   ]
  },
  {
   "cell_type": "markdown",
   "metadata": {},
   "source": [
    "Peruvian cuisine has become very popular in the last years and the country itself has even earned the title of one of the World’s best culinary destinations. \n",
    "\n",
    "A group of Peruvian investors is planning to open a new local of their most popular restaurant in London. They already have some branches in Latin America and now they wish to open the first one in Europe. They are familiar with certain areas in London but they wish to have more certainty based on actual data to select a place. This report intends to help these investors decide which area is the better to open their restaurant. "
   ]
  },
  {
   "cell_type": "markdown",
   "metadata": {},
   "source": [
    "## Data"
   ]
  },
  {
   "cell_type": "markdown",
   "metadata": {},
   "source": [
    "This report will use the location data provided by Foursquare in the following way:\n",
    "- Explore areas in London\n",
    "- Use the api to get the most common venues per borough.\n",
    "- Analyze on the ones that are restaurants and categorize them.\n",
    "\n",
    "The following datasources will be useful to get the latitude and longitude of London's boroughs:\n",
    "- https://en.wikipedia.org/wiki/List_of_London_boroughs\n",
    "- https://fusiontables.google.com/DataSource?snapid=S469624ezxR\n",
    "- https://simplemaps.com/data/world-cities\n",
    "\n",
    "\n",
    "In order to do some analysis on income by boroughs, we will use the following information provided by UK's government:\n",
    "\n",
    "https://www.gov.uk/government/statistics/income-and-tax-by-borough-and-district-or-unitary-authority-2010-to-2011#history\n",
    "\n"
   ]
  }
 ],
 "metadata": {
  "kernelspec": {
   "display_name": "Python 3",
   "language": "python",
   "name": "python3"
  },
  "language_info": {
   "codemirror_mode": {
    "name": "ipython",
    "version": 3
   },
   "file_extension": ".py",
   "mimetype": "text/x-python",
   "name": "python",
   "nbconvert_exporter": "python",
   "pygments_lexer": "ipython3",
   "version": "3.6.8"
  }
 },
 "nbformat": 4,
 "nbformat_minor": 2
}
